{
 "cells": [
  {
   "cell_type": "code",
   "execution_count": 5,
   "metadata": {},
   "outputs": [],
   "source": [
    "# https://stable-baselines3.readthedocs.io/en/master/guide/rl.html\n",
    "# https://spinningup.openai.com/en/latest/spinningup/rl_intro2.html#a-taxonomy-of-rl-algorithms"
   ]
  },
  {
   "cell_type": "markdown",
   "metadata": {},
   "source": [
    "# 1. Import dependencies"
   ]
  },
  {
   "cell_type": "code",
   "execution_count": 6,
   "metadata": {
    "scrolled": true
   },
   "outputs": [
    {
     "name": "stdout",
     "output_type": "stream",
     "text": [
      "Requirement already satisfied: stable-baselines3[extra] in /home/nsambhu/anaconda3/envs/ReinforcementLearningCourse/lib/python3.8/site-packages (2.2.1)\n",
      "Requirement already satisfied: gymnasium<0.30,>=0.28.1 in /home/nsambhu/anaconda3/envs/ReinforcementLearningCourse/lib/python3.8/site-packages (from stable-baselines3[extra]) (0.29.1)\n",
      "Requirement already satisfied: numpy>=1.20 in /home/nsambhu/anaconda3/envs/ReinforcementLearningCourse/lib/python3.8/site-packages (from stable-baselines3[extra]) (1.24.4)\n",
      "Requirement already satisfied: torch>=1.13 in /home/nsambhu/anaconda3/envs/ReinforcementLearningCourse/lib/python3.8/site-packages (from stable-baselines3[extra]) (2.1.1)\n",
      "Requirement already satisfied: cloudpickle in /home/nsambhu/anaconda3/envs/ReinforcementLearningCourse/lib/python3.8/site-packages (from stable-baselines3[extra]) (3.0.0)\n",
      "Requirement already satisfied: pandas in /home/nsambhu/anaconda3/envs/ReinforcementLearningCourse/lib/python3.8/site-packages (from stable-baselines3[extra]) (2.0.3)\n",
      "Requirement already satisfied: matplotlib in /home/nsambhu/anaconda3/envs/ReinforcementLearningCourse/lib/python3.8/site-packages (from stable-baselines3[extra]) (3.7.4)\n",
      "Requirement already satisfied: opencv-python in /home/nsambhu/anaconda3/envs/ReinforcementLearningCourse/lib/python3.8/site-packages (from stable-baselines3[extra]) (4.8.1.78)\n",
      "Requirement already satisfied: pygame in /home/nsambhu/anaconda3/envs/ReinforcementLearningCourse/lib/python3.8/site-packages (from stable-baselines3[extra]) (2.5.2)\n",
      "Requirement already satisfied: tensorboard>=2.9.1 in /home/nsambhu/anaconda3/envs/ReinforcementLearningCourse/lib/python3.8/site-packages (from stable-baselines3[extra]) (2.14.0)\n",
      "Requirement already satisfied: psutil in /home/nsambhu/anaconda3/envs/ReinforcementLearningCourse/lib/python3.8/site-packages (from stable-baselines3[extra]) (5.9.6)\n",
      "Requirement already satisfied: tqdm in /home/nsambhu/anaconda3/envs/ReinforcementLearningCourse/lib/python3.8/site-packages (from stable-baselines3[extra]) (4.66.1)\n",
      "Requirement already satisfied: rich in /home/nsambhu/anaconda3/envs/ReinforcementLearningCourse/lib/python3.8/site-packages (from stable-baselines3[extra]) (13.7.0)\n",
      "Requirement already satisfied: shimmy~=1.3.0 in /home/nsambhu/anaconda3/envs/ReinforcementLearningCourse/lib/python3.8/site-packages (from shimmy[atari]~=1.3.0; extra == \"extra\"->stable-baselines3[extra]) (1.3.0)\n",
      "Requirement already satisfied: pillow in /home/nsambhu/anaconda3/envs/ReinforcementLearningCourse/lib/python3.8/site-packages (from stable-baselines3[extra]) (10.1.0)\n",
      "Requirement already satisfied: autorom~=0.6.1 in /home/nsambhu/anaconda3/envs/ReinforcementLearningCourse/lib/python3.8/site-packages (from autorom[accept-rom-license]~=0.6.1; extra == \"extra\"->stable-baselines3[extra]) (0.6.1)\n",
      "Requirement already satisfied: click in /home/nsambhu/anaconda3/envs/ReinforcementLearningCourse/lib/python3.8/site-packages (from autorom~=0.6.1->autorom[accept-rom-license]~=0.6.1; extra == \"extra\"->stable-baselines3[extra]) (8.1.7)\n",
      "Requirement already satisfied: requests in /home/nsambhu/anaconda3/envs/ReinforcementLearningCourse/lib/python3.8/site-packages (from autorom~=0.6.1->autorom[accept-rom-license]~=0.6.1; extra == \"extra\"->stable-baselines3[extra]) (2.31.0)\n",
      "Requirement already satisfied: importlib-resources in /home/nsambhu/anaconda3/envs/ReinforcementLearningCourse/lib/python3.8/site-packages (from autorom~=0.6.1->autorom[accept-rom-license]~=0.6.1; extra == \"extra\"->stable-baselines3[extra]) (6.1.1)\n",
      "Requirement already satisfied: AutoROM.accept-rom-license in /home/nsambhu/anaconda3/envs/ReinforcementLearningCourse/lib/python3.8/site-packages (from autorom[accept-rom-license]~=0.6.1; extra == \"extra\"->stable-baselines3[extra]) (0.6.1)\n",
      "Requirement already satisfied: typing-extensions>=4.3.0 in /home/nsambhu/anaconda3/envs/ReinforcementLearningCourse/lib/python3.8/site-packages (from gymnasium<0.30,>=0.28.1->stable-baselines3[extra]) (4.9.0)\n",
      "Requirement already satisfied: farama-notifications>=0.0.1 in /home/nsambhu/anaconda3/envs/ReinforcementLearningCourse/lib/python3.8/site-packages (from gymnasium<0.30,>=0.28.1->stable-baselines3[extra]) (0.0.4)\n",
      "Requirement already satisfied: importlib-metadata>=4.8.0 in /home/nsambhu/anaconda3/envs/ReinforcementLearningCourse/lib/python3.8/site-packages (from gymnasium<0.30,>=0.28.1->stable-baselines3[extra]) (7.0.0)\n",
      "Requirement already satisfied: ale-py~=0.8.1 in /home/nsambhu/anaconda3/envs/ReinforcementLearningCourse/lib/python3.8/site-packages (from shimmy[atari]~=1.3.0; extra == \"extra\"->stable-baselines3[extra]) (0.8.1)\n",
      "Requirement already satisfied: absl-py>=0.4 in /home/nsambhu/anaconda3/envs/ReinforcementLearningCourse/lib/python3.8/site-packages (from tensorboard>=2.9.1->stable-baselines3[extra]) (2.0.0)\n",
      "Requirement already satisfied: grpcio>=1.48.2 in /home/nsambhu/anaconda3/envs/ReinforcementLearningCourse/lib/python3.8/site-packages (from tensorboard>=2.9.1->stable-baselines3[extra]) (1.60.0)\n",
      "Requirement already satisfied: google-auth<3,>=1.6.3 in /home/nsambhu/anaconda3/envs/ReinforcementLearningCourse/lib/python3.8/site-packages (from tensorboard>=2.9.1->stable-baselines3[extra]) (2.25.2)\n",
      "Requirement already satisfied: google-auth-oauthlib<1.1,>=0.5 in /home/nsambhu/anaconda3/envs/ReinforcementLearningCourse/lib/python3.8/site-packages (from tensorboard>=2.9.1->stable-baselines3[extra]) (1.0.0)\n",
      "Requirement already satisfied: markdown>=2.6.8 in /home/nsambhu/anaconda3/envs/ReinforcementLearningCourse/lib/python3.8/site-packages (from tensorboard>=2.9.1->stable-baselines3[extra]) (3.5.1)\n",
      "Requirement already satisfied: protobuf>=3.19.6 in /home/nsambhu/anaconda3/envs/ReinforcementLearningCourse/lib/python3.8/site-packages (from tensorboard>=2.9.1->stable-baselines3[extra]) (4.25.1)\n",
      "Requirement already satisfied: setuptools>=41.0.0 in /home/nsambhu/anaconda3/envs/ReinforcementLearningCourse/lib/python3.8/site-packages (from tensorboard>=2.9.1->stable-baselines3[extra]) (68.0.0)\n",
      "Requirement already satisfied: tensorboard-data-server<0.8.0,>=0.7.0 in /home/nsambhu/anaconda3/envs/ReinforcementLearningCourse/lib/python3.8/site-packages (from tensorboard>=2.9.1->stable-baselines3[extra]) (0.7.2)\n",
      "Requirement already satisfied: werkzeug>=1.0.1 in /home/nsambhu/anaconda3/envs/ReinforcementLearningCourse/lib/python3.8/site-packages (from tensorboard>=2.9.1->stable-baselines3[extra]) (3.0.1)\n",
      "Requirement already satisfied: wheel>=0.26 in /home/nsambhu/anaconda3/envs/ReinforcementLearningCourse/lib/python3.8/site-packages (from tensorboard>=2.9.1->stable-baselines3[extra]) (0.41.2)\n",
      "Requirement already satisfied: filelock in /home/nsambhu/anaconda3/envs/ReinforcementLearningCourse/lib/python3.8/site-packages (from torch>=1.13->stable-baselines3[extra]) (3.13.1)\n",
      "Requirement already satisfied: sympy in /home/nsambhu/anaconda3/envs/ReinforcementLearningCourse/lib/python3.8/site-packages (from torch>=1.13->stable-baselines3[extra]) (1.12)\n",
      "Requirement already satisfied: networkx in /home/nsambhu/anaconda3/envs/ReinforcementLearningCourse/lib/python3.8/site-packages (from torch>=1.13->stable-baselines3[extra]) (3.1)\n",
      "Requirement already satisfied: jinja2 in /home/nsambhu/anaconda3/envs/ReinforcementLearningCourse/lib/python3.8/site-packages (from torch>=1.13->stable-baselines3[extra]) (3.1.2)\n",
      "Requirement already satisfied: fsspec in /home/nsambhu/anaconda3/envs/ReinforcementLearningCourse/lib/python3.8/site-packages (from torch>=1.13->stable-baselines3[extra]) (2023.12.1)\n",
      "Requirement already satisfied: nvidia-cuda-nvrtc-cu12==12.1.105 in /home/nsambhu/anaconda3/envs/ReinforcementLearningCourse/lib/python3.8/site-packages (from torch>=1.13->stable-baselines3[extra]) (12.1.105)\n",
      "Requirement already satisfied: nvidia-cuda-runtime-cu12==12.1.105 in /home/nsambhu/anaconda3/envs/ReinforcementLearningCourse/lib/python3.8/site-packages (from torch>=1.13->stable-baselines3[extra]) (12.1.105)\n",
      "Requirement already satisfied: nvidia-cuda-cupti-cu12==12.1.105 in /home/nsambhu/anaconda3/envs/ReinforcementLearningCourse/lib/python3.8/site-packages (from torch>=1.13->stable-baselines3[extra]) (12.1.105)\n",
      "Requirement already satisfied: nvidia-cudnn-cu12==8.9.2.26 in /home/nsambhu/anaconda3/envs/ReinforcementLearningCourse/lib/python3.8/site-packages (from torch>=1.13->stable-baselines3[extra]) (8.9.2.26)\n",
      "Requirement already satisfied: nvidia-cublas-cu12==12.1.3.1 in /home/nsambhu/anaconda3/envs/ReinforcementLearningCourse/lib/python3.8/site-packages (from torch>=1.13->stable-baselines3[extra]) (12.1.3.1)\n",
      "Requirement already satisfied: nvidia-cufft-cu12==11.0.2.54 in /home/nsambhu/anaconda3/envs/ReinforcementLearningCourse/lib/python3.8/site-packages (from torch>=1.13->stable-baselines3[extra]) (11.0.2.54)\n",
      "Requirement already satisfied: nvidia-curand-cu12==10.3.2.106 in /home/nsambhu/anaconda3/envs/ReinforcementLearningCourse/lib/python3.8/site-packages (from torch>=1.13->stable-baselines3[extra]) (10.3.2.106)\n",
      "Requirement already satisfied: nvidia-cusolver-cu12==11.4.5.107 in /home/nsambhu/anaconda3/envs/ReinforcementLearningCourse/lib/python3.8/site-packages (from torch>=1.13->stable-baselines3[extra]) (11.4.5.107)\n",
      "Requirement already satisfied: nvidia-cusparse-cu12==12.1.0.106 in /home/nsambhu/anaconda3/envs/ReinforcementLearningCourse/lib/python3.8/site-packages (from torch>=1.13->stable-baselines3[extra]) (12.1.0.106)\n",
      "Requirement already satisfied: nvidia-nccl-cu12==2.18.1 in /home/nsambhu/anaconda3/envs/ReinforcementLearningCourse/lib/python3.8/site-packages (from torch>=1.13->stable-baselines3[extra]) (2.18.1)\n",
      "Requirement already satisfied: nvidia-nvtx-cu12==12.1.105 in /home/nsambhu/anaconda3/envs/ReinforcementLearningCourse/lib/python3.8/site-packages (from torch>=1.13->stable-baselines3[extra]) (12.1.105)\n",
      "Requirement already satisfied: triton==2.1.0 in /home/nsambhu/anaconda3/envs/ReinforcementLearningCourse/lib/python3.8/site-packages (from torch>=1.13->stable-baselines3[extra]) (2.1.0)\n",
      "Requirement already satisfied: nvidia-nvjitlink-cu12 in /home/nsambhu/anaconda3/envs/ReinforcementLearningCourse/lib/python3.8/site-packages (from nvidia-cusolver-cu12==11.4.5.107->torch>=1.13->stable-baselines3[extra]) (12.3.101)\n",
      "Requirement already satisfied: contourpy>=1.0.1 in /home/nsambhu/anaconda3/envs/ReinforcementLearningCourse/lib/python3.8/site-packages (from matplotlib->stable-baselines3[extra]) (1.1.1)\n",
      "Requirement already satisfied: cycler>=0.10 in /home/nsambhu/anaconda3/envs/ReinforcementLearningCourse/lib/python3.8/site-packages (from matplotlib->stable-baselines3[extra]) (0.12.1)\n",
      "Requirement already satisfied: fonttools>=4.22.0 in /home/nsambhu/anaconda3/envs/ReinforcementLearningCourse/lib/python3.8/site-packages (from matplotlib->stable-baselines3[extra]) (4.46.0)\n",
      "Requirement already satisfied: kiwisolver>=1.0.1 in /home/nsambhu/anaconda3/envs/ReinforcementLearningCourse/lib/python3.8/site-packages (from matplotlib->stable-baselines3[extra]) (1.4.5)\n",
      "Requirement already satisfied: packaging>=20.0 in /home/nsambhu/anaconda3/envs/ReinforcementLearningCourse/lib/python3.8/site-packages (from matplotlib->stable-baselines3[extra]) (23.2)\n",
      "Requirement already satisfied: pyparsing>=2.3.1 in /home/nsambhu/anaconda3/envs/ReinforcementLearningCourse/lib/python3.8/site-packages (from matplotlib->stable-baselines3[extra]) (3.1.1)\n",
      "Requirement already satisfied: python-dateutil>=2.7 in /home/nsambhu/anaconda3/envs/ReinforcementLearningCourse/lib/python3.8/site-packages (from matplotlib->stable-baselines3[extra]) (2.8.2)\n",
      "Requirement already satisfied: pytz>=2020.1 in /home/nsambhu/anaconda3/envs/ReinforcementLearningCourse/lib/python3.8/site-packages (from pandas->stable-baselines3[extra]) (2023.3.post1)\n",
      "Requirement already satisfied: tzdata>=2022.1 in /home/nsambhu/anaconda3/envs/ReinforcementLearningCourse/lib/python3.8/site-packages (from pandas->stable-baselines3[extra]) (2023.3)\n",
      "Requirement already satisfied: markdown-it-py>=2.2.0 in /home/nsambhu/anaconda3/envs/ReinforcementLearningCourse/lib/python3.8/site-packages (from rich->stable-baselines3[extra]) (3.0.0)\n",
      "Requirement already satisfied: pygments<3.0.0,>=2.13.0 in /home/nsambhu/anaconda3/envs/ReinforcementLearningCourse/lib/python3.8/site-packages (from rich->stable-baselines3[extra]) (2.17.2)\n",
      "Requirement already satisfied: cachetools<6.0,>=2.0.0 in /home/nsambhu/anaconda3/envs/ReinforcementLearningCourse/lib/python3.8/site-packages (from google-auth<3,>=1.6.3->tensorboard>=2.9.1->stable-baselines3[extra]) (5.3.2)\n",
      "Requirement already satisfied: pyasn1-modules>=0.2.1 in /home/nsambhu/anaconda3/envs/ReinforcementLearningCourse/lib/python3.8/site-packages (from google-auth<3,>=1.6.3->tensorboard>=2.9.1->stable-baselines3[extra]) (0.3.0)\n",
      "Requirement already satisfied: rsa<5,>=3.1.4 in /home/nsambhu/anaconda3/envs/ReinforcementLearningCourse/lib/python3.8/site-packages (from google-auth<3,>=1.6.3->tensorboard>=2.9.1->stable-baselines3[extra]) (4.9)\n",
      "Requirement already satisfied: requests-oauthlib>=0.7.0 in /home/nsambhu/anaconda3/envs/ReinforcementLearningCourse/lib/python3.8/site-packages (from google-auth-oauthlib<1.1,>=0.5->tensorboard>=2.9.1->stable-baselines3[extra]) (1.3.1)\n",
      "Requirement already satisfied: zipp>=0.5 in /home/nsambhu/anaconda3/envs/ReinforcementLearningCourse/lib/python3.8/site-packages (from importlib-metadata>=4.8.0->gymnasium<0.30,>=0.28.1->stable-baselines3[extra]) (3.17.0)\n",
      "Requirement already satisfied: mdurl~=0.1 in /home/nsambhu/anaconda3/envs/ReinforcementLearningCourse/lib/python3.8/site-packages (from markdown-it-py>=2.2.0->rich->stable-baselines3[extra]) (0.1.2)\n",
      "Requirement already satisfied: six>=1.5 in /home/nsambhu/anaconda3/envs/ReinforcementLearningCourse/lib/python3.8/site-packages (from python-dateutil>=2.7->matplotlib->stable-baselines3[extra]) (1.16.0)\n",
      "Requirement already satisfied: charset-normalizer<4,>=2 in /home/nsambhu/anaconda3/envs/ReinforcementLearningCourse/lib/python3.8/site-packages (from requests->autorom~=0.6.1->autorom[accept-rom-license]~=0.6.1; extra == \"extra\"->stable-baselines3[extra]) (3.3.2)\n",
      "Requirement already satisfied: idna<4,>=2.5 in /home/nsambhu/anaconda3/envs/ReinforcementLearningCourse/lib/python3.8/site-packages (from requests->autorom~=0.6.1->autorom[accept-rom-license]~=0.6.1; extra == \"extra\"->stable-baselines3[extra]) (3.6)\n",
      "Requirement already satisfied: urllib3<3,>=1.21.1 in /home/nsambhu/anaconda3/envs/ReinforcementLearningCourse/lib/python3.8/site-packages (from requests->autorom~=0.6.1->autorom[accept-rom-license]~=0.6.1; extra == \"extra\"->stable-baselines3[extra]) (2.1.0)\n",
      "Requirement already satisfied: certifi>=2017.4.17 in /home/nsambhu/anaconda3/envs/ReinforcementLearningCourse/lib/python3.8/site-packages (from requests->autorom~=0.6.1->autorom[accept-rom-license]~=0.6.1; extra == \"extra\"->stable-baselines3[extra]) (2023.11.17)\n",
      "Requirement already satisfied: MarkupSafe>=2.1.1 in /home/nsambhu/anaconda3/envs/ReinforcementLearningCourse/lib/python3.8/site-packages (from werkzeug>=1.0.1->tensorboard>=2.9.1->stable-baselines3[extra]) (2.1.3)\n",
      "Requirement already satisfied: mpmath>=0.19 in /home/nsambhu/anaconda3/envs/ReinforcementLearningCourse/lib/python3.8/site-packages (from sympy->torch>=1.13->stable-baselines3[extra]) (1.3.0)\n",
      "Requirement already satisfied: pyasn1<0.6.0,>=0.4.6 in /home/nsambhu/anaconda3/envs/ReinforcementLearningCourse/lib/python3.8/site-packages (from pyasn1-modules>=0.2.1->google-auth<3,>=1.6.3->tensorboard>=2.9.1->stable-baselines3[extra]) (0.5.1)\n",
      "Requirement already satisfied: oauthlib>=3.0.0 in /home/nsambhu/anaconda3/envs/ReinforcementLearningCourse/lib/python3.8/site-packages (from requests-oauthlib>=0.7.0->google-auth-oauthlib<1.1,>=0.5->tensorboard>=2.9.1->stable-baselines3[extra]) (3.2.2)\n",
      "Requirement already satisfied: gym in /home/nsambhu/anaconda3/envs/ReinforcementLearningCourse/lib/python3.8/site-packages (0.26.2)\n",
      "Requirement already satisfied: numpy>=1.18.0 in /home/nsambhu/anaconda3/envs/ReinforcementLearningCourse/lib/python3.8/site-packages (from gym) (1.24.4)\n",
      "Requirement already satisfied: cloudpickle>=1.2.0 in /home/nsambhu/anaconda3/envs/ReinforcementLearningCourse/lib/python3.8/site-packages (from gym) (3.0.0)\n",
      "Requirement already satisfied: gym-notices>=0.0.4 in /home/nsambhu/anaconda3/envs/ReinforcementLearningCourse/lib/python3.8/site-packages (from gym) (0.0.8)\n",
      "Requirement already satisfied: importlib-metadata>=4.8.0 in /home/nsambhu/anaconda3/envs/ReinforcementLearningCourse/lib/python3.8/site-packages (from gym) (7.0.0)\n",
      "Requirement already satisfied: zipp>=0.5 in /home/nsambhu/anaconda3/envs/ReinforcementLearningCourse/lib/python3.8/site-packages (from importlib-metadata>=4.8.0->gym) (3.17.0)\n"
     ]
    }
   ],
   "source": [
    "!pip install stable-baselines3[extra]\n",
    "!pip install gym"
   ]
  },
  {
   "cell_type": "code",
   "execution_count": 7,
   "metadata": {},
   "outputs": [],
   "source": [
    "import gym \n",
    "from stable_baselines3 import PPO\n",
    "from stable_baselines3.common.vec_env import DummyVecEnv\n",
    "from stable_baselines3.common.evaluation import evaluate_policy"
   ]
  },
  {
   "cell_type": "markdown",
   "metadata": {},
   "source": [
    "# 2. Load Environment"
   ]
  },
  {
   "cell_type": "code",
   "execution_count": 8,
   "metadata": {},
   "outputs": [],
   "source": [
    "environment_name = \"CartPole-v0\""
   ]
  },
  {
   "cell_type": "code",
   "execution_count": 9,
   "metadata": {},
   "outputs": [
    {
     "name": "stderr",
     "output_type": "stream",
     "text": [
      "/home/nsambhu/anaconda3/envs/ReinforcementLearningCourse/lib/python3.8/site-packages/gym/envs/registration.py:555: UserWarning: \u001b[33mWARN: The environment CartPole-v0 is out of date. You should consider upgrading to version `v1`.\u001b[0m\n",
      "  logger.warn(\n"
     ]
    }
   ],
   "source": [
    "env = gym.make(environment_name)"
   ]
  },
  {
   "cell_type": "code",
   "execution_count": 10,
   "metadata": {},
   "outputs": [
    {
     "data": {
      "text/plain": [
       "'CartPole-v0'"
      ]
     },
     "execution_count": 10,
     "metadata": {},
     "output_type": "execute_result"
    }
   ],
   "source": [
    "environment_name"
   ]
  },
  {
   "cell_type": "code",
   "execution_count": 13,
   "metadata": {},
   "outputs": [
    {
     "name": "stdout",
     "output_type": "stream",
     "text": [
      "(array([-0.02157968, -0.18579039, -0.00584482,  0.31402093], dtype=float32), 1.0, False, False, {})\n",
      "Episode:1 Score:0\n",
      "(array([ 0.04483074, -0.16847868, -0.00720592,  0.2414045 ], dtype=float32), 1.0, False, False, {})\n",
      "Episode:2 Score:0\n",
      "(array([-0.03997735,  0.1890748 , -0.01323942, -0.2917988 ], dtype=float32), 1.0, False, False, {})\n",
      "Episode:3 Score:0\n",
      "(array([ 0.02593995,  0.24417874,  0.03612713, -0.3250913 ], dtype=float32), 1.0, False, False, {})\n",
      "Episode:4 Score:0\n",
      "(array([ 0.01356625,  0.23420678,  0.03897394, -0.28937978], dtype=float32), 1.0, False, False, {})\n",
      "Episode:5 Score:0\n"
     ]
    }
   ],
   "source": [
    "episodes = 5\n",
    "for episode in range(1, episodes+1):\n",
    "    state = env.reset()\n",
    "    done = False\n",
    "    score = 0 \n",
    "    \n",
    "    while not done:\n",
    "        env.render()\n",
    "        action = env.action_space.sample()\n",
    "        print(env.step(action));break\n",
    "        n_state, reward, done, info = env.step(action)\n",
    "        score+=reward\n",
    "    print('Episode:{} Score:{}'.format(episode, score))\n",
    "env.close()"
   ]
  },
  {
   "cell_type": "markdown",
   "metadata": {},
   "source": [
    "# Understanding The Environment\n",
    "https://github.com/openai/gym/blob/master/gym/envs/classic_control/cartpole.py"
   ]
  },
  {
   "cell_type": "code",
   "execution_count": null,
   "metadata": {},
   "outputs": [],
   "source": [
    "# 0-push cart to left, 1-push cart to the right\n",
    "env.action_space.sample()"
   ]
  },
  {
   "cell_type": "code",
   "execution_count": null,
   "metadata": {},
   "outputs": [],
   "source": [
    "# [cart position, cart velocity, pole angle, pole angular velocity]\n",
    "env.observation_space.sample()"
   ]
  },
  {
   "cell_type": "markdown",
   "metadata": {},
   "source": [
    "# 3. Train an RL Model"
   ]
  },
  {
   "cell_type": "code",
   "execution_count": null,
   "metadata": {},
   "outputs": [],
   "source": [
    "env = gym.make(environment_name)\n",
    "env = DummyVecEnv([lambda: env])\n",
    "model = PPO('MlpPolicy', env, verbose = 1)"
   ]
  },
  {
   "cell_type": "code",
   "execution_count": null,
   "metadata": {
    "scrolled": true
   },
   "outputs": [],
   "source": [
    "model.learn(total_timesteps=20000)"
   ]
  },
  {
   "cell_type": "markdown",
   "metadata": {},
   "source": [
    "# 4. Save and Reload Model"
   ]
  },
  {
   "cell_type": "code",
   "execution_count": null,
   "metadata": {},
   "outputs": [],
   "source": [
    "PPO_path = os.path.join('Training', 'Saved Models', 'PPO_model')"
   ]
  },
  {
   "cell_type": "code",
   "execution_count": null,
   "metadata": {},
   "outputs": [],
   "source": [
    "model.save(PPO_path)"
   ]
  },
  {
   "cell_type": "code",
   "execution_count": null,
   "metadata": {},
   "outputs": [],
   "source": [
    "del model"
   ]
  },
  {
   "cell_type": "code",
   "execution_count": null,
   "metadata": {},
   "outputs": [],
   "source": [
    "model = PPO.load('PPO_model', env=env)"
   ]
  },
  {
   "cell_type": "markdown",
   "metadata": {},
   "source": [
    "# 4. Evaluation"
   ]
  },
  {
   "cell_type": "code",
   "execution_count": null,
   "metadata": {},
   "outputs": [],
   "source": [
    "from stable_baselines3.common.evaluation import evaluate_policy"
   ]
  },
  {
   "cell_type": "code",
   "execution_count": null,
   "metadata": {},
   "outputs": [],
   "source": [
    "evaluate_policy(model, env, n_eval_episodes=10, render=True)"
   ]
  },
  {
   "cell_type": "code",
   "execution_count": null,
   "metadata": {},
   "outputs": [],
   "source": [
    "env.close()"
   ]
  },
  {
   "cell_type": "markdown",
   "metadata": {},
   "source": [
    "# 5. Test Model"
   ]
  },
  {
   "cell_type": "code",
   "execution_count": null,
   "metadata": {},
   "outputs": [],
   "source": [
    "obs = env.reset()\n",
    "while True:\n",
    "    action, _states = model.predict(obs)\n",
    "    obs, rewards, done, info = env.step(action)\n",
    "    env.render()\n",
    "    if done: \n",
    "        print('info', info)\n",
    "        break"
   ]
  },
  {
   "cell_type": "code",
   "execution_count": null,
   "metadata": {},
   "outputs": [],
   "source": [
    "env.close()"
   ]
  },
  {
   "cell_type": "markdown",
   "metadata": {},
   "source": [
    "# 6. Viewing Logs in Tensorboard"
   ]
  },
  {
   "cell_type": "code",
   "execution_count": null,
   "metadata": {},
   "outputs": [],
   "source": [
    "training_log_path = os.path.join(log_path, 'PPO_3')"
   ]
  },
  {
   "cell_type": "code",
   "execution_count": null,
   "metadata": {},
   "outputs": [],
   "source": [
    "!tensorboard --logdir={training_log_path}"
   ]
  },
  {
   "cell_type": "markdown",
   "metadata": {},
   "source": [
    "# 7. Adding a callback to the training Stage"
   ]
  },
  {
   "cell_type": "code",
   "execution_count": null,
   "metadata": {},
   "outputs": [],
   "source": [
    "from stable_baselines3.common.callbacks import EvalCallback, StopTrainingOnRewardThreshold\n",
    "import os"
   ]
  },
  {
   "cell_type": "code",
   "execution_count": null,
   "metadata": {},
   "outputs": [],
   "source": [
    "save_path = os.path.join('Training', 'Saved Models')\n",
    "log_path = os.path.join('Training', 'Logs')"
   ]
  },
  {
   "cell_type": "code",
   "execution_count": null,
   "metadata": {},
   "outputs": [],
   "source": [
    "env = gym.make(environment_name)\n",
    "env = DummyVecEnv([lambda: env])"
   ]
  },
  {
   "cell_type": "code",
   "execution_count": null,
   "metadata": {},
   "outputs": [],
   "source": [
    "stop_callback = StopTrainingOnRewardThreshold(reward_threshold=190, verbose=1)\n",
    "eval_callback = EvalCallback(env, \n",
    "                             callback_on_new_best=stop_callback, \n",
    "                             eval_freq=10000, \n",
    "                             best_model_save_path=save_path, \n",
    "                             verbose=1)"
   ]
  },
  {
   "cell_type": "code",
   "execution_count": null,
   "metadata": {},
   "outputs": [],
   "source": [
    "model = PPO('MlpPolicy', env, verbose = 1, tensorboard_log=log_path)"
   ]
  },
  {
   "cell_type": "code",
   "execution_count": null,
   "metadata": {
    "scrolled": true
   },
   "outputs": [],
   "source": [
    "model.learn(total_timesteps=20000, callback=eval_callback)"
   ]
  },
  {
   "cell_type": "code",
   "execution_count": null,
   "metadata": {},
   "outputs": [],
   "source": [
    "model_path = os.path.join('Training', 'Saved Models', 'best_model')\n",
    "model = PPO.load(model_path, env=env)"
   ]
  },
  {
   "cell_type": "code",
   "execution_count": null,
   "metadata": {},
   "outputs": [],
   "source": [
    "evaluate_policy(model, env, n_eval_episodes=10, render=True)"
   ]
  },
  {
   "cell_type": "code",
   "execution_count": null,
   "metadata": {},
   "outputs": [],
   "source": [
    "env.close()"
   ]
  },
  {
   "cell_type": "markdown",
   "metadata": {},
   "source": [
    "# 8. Changing Policies"
   ]
  },
  {
   "cell_type": "code",
   "execution_count": null,
   "metadata": {},
   "outputs": [],
   "source": [
    "net_arch=[dict(pi=[128, 128, 128, 128], vf=[128, 128, 128, 128])]"
   ]
  },
  {
   "cell_type": "code",
   "execution_count": null,
   "metadata": {},
   "outputs": [],
   "source": [
    "model = PPO('MlpPolicy', env, verbose = 1, policy_kwargs={'net_arch': net_arch})"
   ]
  },
  {
   "cell_type": "code",
   "execution_count": null,
   "metadata": {
    "scrolled": true
   },
   "outputs": [],
   "source": [
    "model.learn(total_timesteps=20000, callback=eval_callback)"
   ]
  },
  {
   "cell_type": "markdown",
   "metadata": {},
   "source": [
    "# 9. Using an Alternate Algorithm"
   ]
  },
  {
   "cell_type": "code",
   "execution_count": null,
   "metadata": {},
   "outputs": [],
   "source": [
    "from stable_baselines3 import DQN"
   ]
  },
  {
   "cell_type": "code",
   "execution_count": null,
   "metadata": {},
   "outputs": [],
   "source": [
    "model = DQN('MlpPolicy', env, verbose = 1, tensorboard_log=log_path)"
   ]
  },
  {
   "cell_type": "code",
   "execution_count": null,
   "metadata": {
    "scrolled": true
   },
   "outputs": [],
   "source": [
    "model.learn(total_timesteps=20000, callback=eval_callback)"
   ]
  },
  {
   "cell_type": "code",
   "execution_count": null,
   "metadata": {},
   "outputs": [],
   "source": [
    "dqn_path = os.path.join('Training', 'Saved Models', 'DQN_model')"
   ]
  },
  {
   "cell_type": "code",
   "execution_count": null,
   "metadata": {},
   "outputs": [],
   "source": [
    "model.save(dqn_path)"
   ]
  },
  {
   "cell_type": "code",
   "execution_count": null,
   "metadata": {},
   "outputs": [],
   "source": [
    "model = DQN.load(dqn_path, env=env)"
   ]
  },
  {
   "cell_type": "code",
   "execution_count": null,
   "metadata": {},
   "outputs": [],
   "source": [
    "evaluate_policy(model, env, n_eval_episodes=10, render=True)"
   ]
  },
  {
   "cell_type": "code",
   "execution_count": null,
   "metadata": {},
   "outputs": [],
   "source": [
    "env.close()"
   ]
  }
 ],
 "metadata": {
  "kernelspec": {
   "display_name": "Python 3 (ipykernel)",
   "language": "python",
   "name": "python3"
  },
  "language_info": {
   "codemirror_mode": {
    "name": "ipython",
    "version": 3
   },
   "file_extension": ".py",
   "mimetype": "text/x-python",
   "name": "python",
   "nbconvert_exporter": "python",
   "pygments_lexer": "ipython3",
   "version": "3.8.18"
  }
 },
 "nbformat": 4,
 "nbformat_minor": 4
}
